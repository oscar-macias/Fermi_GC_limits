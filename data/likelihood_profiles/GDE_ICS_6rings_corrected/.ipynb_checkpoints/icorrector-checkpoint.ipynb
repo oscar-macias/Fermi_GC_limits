{
 "cells": [
  {
   "cell_type": "code",
   "execution_count": 3,
   "metadata": {},
   "outputs": [],
   "source": [
    "import matplotlib.pyplot as plt\n",
    "plt.style.use('classic')\n",
    "\n",
    "import numpy as np\n",
    "import random"
   ]
  },
  {
   "cell_type": "markdown",
   "metadata": {},
   "source": [
    "$$\\Delta L_1=log(L_{fi})-log(L_{f-best})$$ and \n",
    "\n",
    "$$\\Delta L_2=log(L_{f-best})-log(L_{f0})$$ so\n",
    "\n",
    "$$\\Delta L=log(L_{fi})-log(L_{f0})=\\Delta L_1+\\Delta L_2$$\n"
   ]
  },
  {
   "cell_type": "code",
   "execution_count": 67,
   "metadata": {},
   "outputs": [
    {
     "data": {
      "image/png": "[encoded data removed]",
      "text/plain": [
       "<Figure size 640x480 with 1 Axes>"
      ]
     },
     "metadata": {},
     "output_type": "display_data"
    }
   ],
   "source": [
    "# Ebin\n",
    "i = 16\n",
    "# fit number\n",
    "fitnum = 401\n",
    "\n",
    "data = np.loadtxt('UL_scan_Ebin_'+str(i)+'_fit'+str(fitnum)+'.dat', delimiter=',')\n",
    "delta_L1 = data[:,0]\n",
    "flux = data[:,1]\n",
    "# deltaloglike data\n",
    "data = np.loadtxt('deltaloglike_fit'+str(fitnum)+'.dat')\n",
    "delta_L2 = data[:] \n",
    "delta_L2[delta_L2>0.] = 0\n",
    "# compute deltaL with reference to flux 0\n",
    "delta_L = delta_L1 + delta_L2[i-2]\n",
    "flux_1 = (flux[0]/6.) * np.random.uniform(0,1)\n",
    "delta_L = np.append(0, delta_L)\n",
    "flux = np.append(flux_1, flux)\n",
    "#\n",
    "delta_L = np.append(0, delta_L)\n",
    "flux = np.append(1e-25, flux)\n",
    "#\n",
    "plt.plot(flux, delta_L, ls='-', lw=2, label='Profile')\n",
    "plt.xscale('log')\n",
    "plt.xlim((1e-17, 1e-7))\n",
    "plt.ylim((-3, 3))\n",
    "plt.hlines(y=0,xmax=1e-4, xmin=1e-30, linestyle='--')\n",
    "#save the data\n",
    "file = open('UL_scan_Ebin_'+str(i)+'_fit'+str(fitnum)+'_V2.dat','w')\n",
    "print>>file,'#delta(loglike), fluxes [ph/cm^2/s]'\n",
    "for i in range(len(delta_L)):\n",
    "    print>>file, delta_L[i],',', flux[i]\n",
    "file.close()"
   ]
  },
  {
   "cell_type": "code",
   "execution_count": 83,
   "metadata": {},
   "outputs": [
    {
     "data": {
      "text/plain": [
       "-6.649999999999999"
      ]
     },
     "execution_count": 83,
     "metadata": {},
     "output_type": "execute_result"
    }
   ],
   "source": [
    "np.sum(delta_L2)"
   ]
  },
  {
   "cell_type": "code",
   "execution_count": null,
   "metadata": {},
   "outputs": [],
   "source": []
  }
 ],
 "metadata": {
  "kernelspec": {
   "display_name": "Python 2",
   "language": "python",
   "name": "python2"
  },
  "language_info": {
   "codemirror_mode": {
    "name": "ipython",
    "version": 2
   },
   "file_extension": ".py",
   "mimetype": "text/x-python",
   "name": "python",
   "nbconvert_exporter": "python",
   "pygments_lexer": "ipython2",
   "version": "2.7.15"
  }
 },
 "nbformat": 4,
 "nbformat_minor": 2
}
